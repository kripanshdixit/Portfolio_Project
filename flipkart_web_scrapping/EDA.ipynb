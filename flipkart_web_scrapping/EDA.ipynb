{
 "cells": [
  {
   "cell_type": "code",
   "execution_count": 33,
   "id": "ab11b2ff",
   "metadata": {},
   "outputs": [],
   "source": [
    "import pandas as pd\n",
    "import numpy as np \n",
    "import matplotlib.pyplot as plt\n",
    "%matplotlib inline\n",
    "import seaborn as sns\n",
    "import matplotlib \n",
    "matplotlib.rcParams['figure.figsize'] = (12,6)\n",
    "import warnings\n",
    "warnings.filterwarnings('ignore')\n"
   ]
  },
  {
   "cell_type": "code",
   "execution_count": 2,
   "id": "743eb6a8",
   "metadata": {},
   "outputs": [
    {
     "data": {
      "text/html": [
       "<div>\n",
       "<style scoped>\n",
       "    .dataframe tbody tr th:only-of-type {\n",
       "        vertical-align: middle;\n",
       "    }\n",
       "\n",
       "    .dataframe tbody tr th {\n",
       "        vertical-align: top;\n",
       "    }\n",
       "\n",
       "    .dataframe thead th {\n",
       "        text-align: right;\n",
       "    }\n",
       "</style>\n",
       "<table border=\"1\" class=\"dataframe\">\n",
       "  <thead>\n",
       "    <tr style=\"text-align: right;\">\n",
       "      <th></th>\n",
       "      <th>Product.1</th>\n",
       "      <th>color</th>\n",
       "      <th>Memory in GB</th>\n",
       "      <th>Star_Rating</th>\n",
       "      <th>Ratings</th>\n",
       "      <th>Reviews</th>\n",
       "      <th>Offer_price</th>\n",
       "      <th>Market_Price</th>\n",
       "      <th>Discount</th>\n",
       "      <th>Discount_calculated</th>\n",
       "    </tr>\n",
       "  </thead>\n",
       "  <tbody>\n",
       "    <tr>\n",
       "      <th>0</th>\n",
       "      <td>IAIR D40</td>\n",
       "      <td>not known</td>\n",
       "      <td>32.0</td>\n",
       "      <td>3.9</td>\n",
       "      <td>22</td>\n",
       "      <td>13</td>\n",
       "      <td>1319</td>\n",
       "      <td>1319</td>\n",
       "      <td>0.0</td>\n",
       "      <td>0.0</td>\n",
       "    </tr>\n",
       "    <tr>\n",
       "      <th>1</th>\n",
       "      <td>IAIR D22</td>\n",
       "      <td>not known</td>\n",
       "      <td>32.0</td>\n",
       "      <td>4.1</td>\n",
       "      <td>15</td>\n",
       "      <td>7</td>\n",
       "      <td>1120</td>\n",
       "      <td>1120</td>\n",
       "      <td>0.0</td>\n",
       "      <td>0.0</td>\n",
       "    </tr>\n",
       "    <tr>\n",
       "      <th>2</th>\n",
       "      <td>IAIR D24</td>\n",
       "      <td>not known</td>\n",
       "      <td>32.0</td>\n",
       "      <td>3.8</td>\n",
       "      <td>77</td>\n",
       "      <td>26</td>\n",
       "      <td>1128</td>\n",
       "      <td>1128</td>\n",
       "      <td>0.0</td>\n",
       "      <td>0.0</td>\n",
       "    </tr>\n",
       "    <tr>\n",
       "      <th>3</th>\n",
       "      <td>IAIR D41</td>\n",
       "      <td>not known</td>\n",
       "      <td>32.0</td>\n",
       "      <td>3.4</td>\n",
       "      <td>24</td>\n",
       "      <td>7</td>\n",
       "      <td>1319</td>\n",
       "      <td>1319</td>\n",
       "      <td>0.0</td>\n",
       "      <td>0.0</td>\n",
       "    </tr>\n",
       "    <tr>\n",
       "      <th>4</th>\n",
       "      <td>Good One 5026</td>\n",
       "      <td>not known</td>\n",
       "      <td>32.0</td>\n",
       "      <td>4.3</td>\n",
       "      <td>223</td>\n",
       "      <td>41</td>\n",
       "      <td>999</td>\n",
       "      <td>999</td>\n",
       "      <td>0.0</td>\n",
       "      <td>0.0</td>\n",
       "    </tr>\n",
       "  </tbody>\n",
       "</table>\n",
       "</div>"
      ],
      "text/plain": [
       "       Product.1      color  Memory in GB  Star_Rating  Ratings  Reviews  \\\n",
       "0       IAIR D40  not known          32.0          3.9       22       13   \n",
       "1       IAIR D22  not known          32.0          4.1       15        7   \n",
       "2       IAIR D24  not known          32.0          3.8       77       26   \n",
       "3       IAIR D41  not known          32.0          3.4       24        7   \n",
       "4  Good One 5026  not known          32.0          4.3      223       41   \n",
       "\n",
       "   Offer_price  Market_Price  Discount  Discount_calculated  \n",
       "0         1319          1319       0.0                  0.0  \n",
       "1         1120          1120       0.0                  0.0  \n",
       "2         1128          1128       0.0                  0.0  \n",
       "3         1319          1319       0.0                  0.0  \n",
       "4          999           999       0.0                  0.0  "
      ]
     },
     "execution_count": 2,
     "metadata": {},
     "output_type": "execute_result"
    }
   ],
   "source": [
    "df=pd.read_excel('Data_cleaning_flipkart.xlsx')\n",
    "df.head()"
   ]
  },
  {
   "cell_type": "code",
   "execution_count": 3,
   "id": "7c01b5e0",
   "metadata": {},
   "outputs": [
    {
     "data": {
      "text/plain": [
       "Index(['Product.1', 'color', 'Memory in GB', 'Star_Rating', 'Ratings',\n",
       "       'Reviews', 'Offer_price', 'Market_Price', 'Discount',\n",
       "       'Discount_calculated'],\n",
       "      dtype='object')"
      ]
     },
     "execution_count": 3,
     "metadata": {},
     "output_type": "execute_result"
    }
   ],
   "source": [
    "df.columns"
   ]
  },
  {
   "cell_type": "code",
   "execution_count": 4,
   "id": "78b37856",
   "metadata": {},
   "outputs": [],
   "source": [
    "df.drop(columns=['Discount'],axis=1,inplace=True)"
   ]
  },
  {
   "cell_type": "code",
   "execution_count": 5,
   "id": "4b50aacc",
   "metadata": {},
   "outputs": [],
   "source": [
    "df.rename(columns={'Product.1':'Product','color':'Color'} , inplace=True)"
   ]
  },
  {
   "cell_type": "code",
   "execution_count": 6,
   "id": "f104bc03",
   "metadata": {},
   "outputs": [
    {
     "data": {
      "text/html": [
       "<div>\n",
       "<style scoped>\n",
       "    .dataframe tbody tr th:only-of-type {\n",
       "        vertical-align: middle;\n",
       "    }\n",
       "\n",
       "    .dataframe tbody tr th {\n",
       "        vertical-align: top;\n",
       "    }\n",
       "\n",
       "    .dataframe thead th {\n",
       "        text-align: right;\n",
       "    }\n",
       "</style>\n",
       "<table border=\"1\" class=\"dataframe\">\n",
       "  <thead>\n",
       "    <tr style=\"text-align: right;\">\n",
       "      <th></th>\n",
       "      <th>Product</th>\n",
       "      <th>Color</th>\n",
       "      <th>Memory in GB</th>\n",
       "      <th>Star_Rating</th>\n",
       "      <th>Ratings</th>\n",
       "      <th>Reviews</th>\n",
       "      <th>Offer_price</th>\n",
       "      <th>Market_Price</th>\n",
       "      <th>Discount_calculated</th>\n",
       "    </tr>\n",
       "  </thead>\n",
       "  <tbody>\n",
       "    <tr>\n",
       "      <th>0</th>\n",
       "      <td>IAIR D40</td>\n",
       "      <td>not known</td>\n",
       "      <td>32.0</td>\n",
       "      <td>3.9</td>\n",
       "      <td>22</td>\n",
       "      <td>13</td>\n",
       "      <td>1319</td>\n",
       "      <td>1319</td>\n",
       "      <td>0.0</td>\n",
       "    </tr>\n",
       "    <tr>\n",
       "      <th>1</th>\n",
       "      <td>IAIR D22</td>\n",
       "      <td>not known</td>\n",
       "      <td>32.0</td>\n",
       "      <td>4.1</td>\n",
       "      <td>15</td>\n",
       "      <td>7</td>\n",
       "      <td>1120</td>\n",
       "      <td>1120</td>\n",
       "      <td>0.0</td>\n",
       "    </tr>\n",
       "    <tr>\n",
       "      <th>2</th>\n",
       "      <td>IAIR D24</td>\n",
       "      <td>not known</td>\n",
       "      <td>32.0</td>\n",
       "      <td>3.8</td>\n",
       "      <td>77</td>\n",
       "      <td>26</td>\n",
       "      <td>1128</td>\n",
       "      <td>1128</td>\n",
       "      <td>0.0</td>\n",
       "    </tr>\n",
       "    <tr>\n",
       "      <th>3</th>\n",
       "      <td>IAIR D41</td>\n",
       "      <td>not known</td>\n",
       "      <td>32.0</td>\n",
       "      <td>3.4</td>\n",
       "      <td>24</td>\n",
       "      <td>7</td>\n",
       "      <td>1319</td>\n",
       "      <td>1319</td>\n",
       "      <td>0.0</td>\n",
       "    </tr>\n",
       "    <tr>\n",
       "      <th>4</th>\n",
       "      <td>Good One 5026</td>\n",
       "      <td>not known</td>\n",
       "      <td>32.0</td>\n",
       "      <td>4.3</td>\n",
       "      <td>223</td>\n",
       "      <td>41</td>\n",
       "      <td>999</td>\n",
       "      <td>999</td>\n",
       "      <td>0.0</td>\n",
       "    </tr>\n",
       "  </tbody>\n",
       "</table>\n",
       "</div>"
      ],
      "text/plain": [
       "         Product      Color  Memory in GB  Star_Rating  Ratings  Reviews  \\\n",
       "0       IAIR D40  not known          32.0          3.9       22       13   \n",
       "1       IAIR D22  not known          32.0          4.1       15        7   \n",
       "2       IAIR D24  not known          32.0          3.8       77       26   \n",
       "3       IAIR D41  not known          32.0          3.4       24        7   \n",
       "4  Good One 5026  not known          32.0          4.3      223       41   \n",
       "\n",
       "   Offer_price  Market_Price  Discount_calculated  \n",
       "0         1319          1319                  0.0  \n",
       "1         1120          1120                  0.0  \n",
       "2         1128          1128                  0.0  \n",
       "3         1319          1319                  0.0  \n",
       "4          999           999                  0.0  "
      ]
     },
     "execution_count": 6,
     "metadata": {},
     "output_type": "execute_result"
    }
   ],
   "source": [
    "df.head()"
   ]
  },
  {
   "cell_type": "code",
   "execution_count": 7,
   "id": "038437cb",
   "metadata": {},
   "outputs": [
    {
     "name": "stdout",
     "output_type": "stream",
     "text": [
      "Total no of records  641\n",
      "Total no of features  9\n"
     ]
    }
   ],
   "source": [
    "print(\"Total no of records \",df.shape[0])\n",
    "print(\"Total no of features \",df.shape[1])"
   ]
  },
  {
   "cell_type": "code",
   "execution_count": 8,
   "id": "f5a23d91",
   "metadata": {},
   "outputs": [
    {
     "name": "stdout",
     "output_type": "stream",
     "text": [
      "<class 'pandas.core.frame.DataFrame'>\n",
      "RangeIndex: 641 entries, 0 to 640\n",
      "Data columns (total 9 columns):\n",
      " #   Column               Non-Null Count  Dtype  \n",
      "---  ------               --------------  -----  \n",
      " 0   Product              641 non-null    object \n",
      " 1   Color                588 non-null    object \n",
      " 2   Memory in GB         585 non-null    float64\n",
      " 3   Star_Rating          641 non-null    float64\n",
      " 4   Ratings              641 non-null    int64  \n",
      " 5   Reviews              641 non-null    int64  \n",
      " 6   Offer_price          641 non-null    int64  \n",
      " 7   Market_Price         641 non-null    int64  \n",
      " 8   Discount_calculated  641 non-null    float64\n",
      "dtypes: float64(3), int64(4), object(2)\n",
      "memory usage: 45.2+ KB\n"
     ]
    }
   ],
   "source": [
    "df.info()"
   ]
  },
  {
   "cell_type": "code",
   "execution_count": 9,
   "id": "65cba6f6",
   "metadata": {},
   "outputs": [],
   "source": [
    "# filling null values with median\n",
    "\n",
    "df[\"Memory in GB\"]=df[\"Memory in GB\"].fillna(df[\"Memory in GB\"].median())"
   ]
  },
  {
   "cell_type": "code",
   "execution_count": 10,
   "id": "6bc4260d",
   "metadata": {},
   "outputs": [],
   "source": [
    "# changing its datatype to category\n",
    "df[[\"Memory in GB\",\"Star_Rating\"]]=df[[\"Memory in GB\",\"Star_Rating\"]].astype('category')"
   ]
  },
  {
   "cell_type": "code",
   "execution_count": 11,
   "id": "ca3e3d35",
   "metadata": {},
   "outputs": [],
   "source": [
    "df[\"Color\"]=df[\"Color\"].fillna(\"not known\")"
   ]
  },
  {
   "cell_type": "code",
   "execution_count": 12,
   "id": "2e5f6f88",
   "metadata": {},
   "outputs": [
    {
     "data": {
      "text/plain": [
       "Product                0.0\n",
       "Color                  0.0\n",
       "Memory in GB           0.0\n",
       "Star_Rating            0.0\n",
       "Ratings                0.0\n",
       "Reviews                0.0\n",
       "Offer_price            0.0\n",
       "Market_Price           0.0\n",
       "Discount_calculated    0.0\n",
       "dtype: float64"
      ]
     },
     "execution_count": 12,
     "metadata": {},
     "output_type": "execute_result"
    }
   ],
   "source": [
    "df.isnull().mean()*100"
   ]
  },
  {
   "cell_type": "code",
   "execution_count": 13,
   "id": "c7be8570",
   "metadata": {},
   "outputs": [
    {
     "data": {
      "text/html": [
       "<div>\n",
       "<style scoped>\n",
       "    .dataframe tbody tr th:only-of-type {\n",
       "        vertical-align: middle;\n",
       "    }\n",
       "\n",
       "    .dataframe tbody tr th {\n",
       "        vertical-align: top;\n",
       "    }\n",
       "\n",
       "    .dataframe thead th {\n",
       "        text-align: right;\n",
       "    }\n",
       "</style>\n",
       "<table border=\"1\" class=\"dataframe\">\n",
       "  <thead>\n",
       "    <tr style=\"text-align: right;\">\n",
       "      <th></th>\n",
       "      <th>Ratings</th>\n",
       "      <th>Reviews</th>\n",
       "      <th>Offer_price</th>\n",
       "      <th>Market_Price</th>\n",
       "      <th>Discount_calculated</th>\n",
       "    </tr>\n",
       "  </thead>\n",
       "  <tbody>\n",
       "    <tr>\n",
       "      <th>count</th>\n",
       "      <td>641.000000</td>\n",
       "      <td>641.000000</td>\n",
       "      <td>641.000000</td>\n",
       "      <td>641.000000</td>\n",
       "      <td>641.000000</td>\n",
       "    </tr>\n",
       "    <tr>\n",
       "      <th>mean</th>\n",
       "      <td>27690.330733</td>\n",
       "      <td>2025.892356</td>\n",
       "      <td>14847.915757</td>\n",
       "      <td>17717.352574</td>\n",
       "      <td>13.465481</td>\n",
       "    </tr>\n",
       "    <tr>\n",
       "      <th>std</th>\n",
       "      <td>54829.322467</td>\n",
       "      <td>3851.286008</td>\n",
       "      <td>15213.918916</td>\n",
       "      <td>17154.614612</td>\n",
       "      <td>12.766978</td>\n",
       "    </tr>\n",
       "    <tr>\n",
       "      <th>min</th>\n",
       "      <td>4.000000</td>\n",
       "      <td>0.000000</td>\n",
       "      <td>719.000000</td>\n",
       "      <td>749.000000</td>\n",
       "      <td>0.000000</td>\n",
       "    </tr>\n",
       "    <tr>\n",
       "      <th>25%</th>\n",
       "      <td>858.000000</td>\n",
       "      <td>88.000000</td>\n",
       "      <td>6629.000000</td>\n",
       "      <td>7889.000000</td>\n",
       "      <td>0.000000</td>\n",
       "    </tr>\n",
       "    <tr>\n",
       "      <th>50%</th>\n",
       "      <td>5938.000000</td>\n",
       "      <td>473.000000</td>\n",
       "      <td>12249.000000</td>\n",
       "      <td>15607.000000</td>\n",
       "      <td>13.158587</td>\n",
       "    </tr>\n",
       "    <tr>\n",
       "      <th>75%</th>\n",
       "      <td>25214.000000</td>\n",
       "      <td>2102.000000</td>\n",
       "      <td>16999.000000</td>\n",
       "      <td>20999.000000</td>\n",
       "      <td>24.000960</td>\n",
       "    </tr>\n",
       "    <tr>\n",
       "      <th>max</th>\n",
       "      <td>476716.000000</td>\n",
       "      <td>34621.000000</td>\n",
       "      <td>139900.000000</td>\n",
       "      <td>139900.000000</td>\n",
       "      <td>60.024010</td>\n",
       "    </tr>\n",
       "  </tbody>\n",
       "</table>\n",
       "</div>"
      ],
      "text/plain": [
       "             Ratings       Reviews    Offer_price   Market_Price  \\\n",
       "count     641.000000    641.000000     641.000000     641.000000   \n",
       "mean    27690.330733   2025.892356   14847.915757   17717.352574   \n",
       "std     54829.322467   3851.286008   15213.918916   17154.614612   \n",
       "min         4.000000      0.000000     719.000000     749.000000   \n",
       "25%       858.000000     88.000000    6629.000000    7889.000000   \n",
       "50%      5938.000000    473.000000   12249.000000   15607.000000   \n",
       "75%     25214.000000   2102.000000   16999.000000   20999.000000   \n",
       "max    476716.000000  34621.000000  139900.000000  139900.000000   \n",
       "\n",
       "       Discount_calculated  \n",
       "count           641.000000  \n",
       "mean             13.465481  \n",
       "std              12.766978  \n",
       "min               0.000000  \n",
       "25%               0.000000  \n",
       "50%              13.158587  \n",
       "75%              24.000960  \n",
       "max              60.024010  "
      ]
     },
     "execution_count": 13,
     "metadata": {},
     "output_type": "execute_result"
    }
   ],
   "source": [
    "df.describe()"
   ]
  },
  {
   "cell_type": "markdown",
   "id": "3e803e4d",
   "metadata": {},
   "source": [
    "- <h4> Univariate analysis"
   ]
  },
  {
   "cell_type": "code",
   "execution_count": 14,
   "id": "9e5a5ffb",
   "metadata": {},
   "outputs": [],
   "source": [
    "# categorical features\n"
   ]
  },
  {
   "cell_type": "code",
   "execution_count": 15,
   "id": "61c8b77a",
   "metadata": {},
   "outputs": [
    {
     "data": {
      "text/plain": [
       "128.0    251\n",
       "64.0     216\n",
       "32.0     139\n",
       "256.0     34\n",
       "16.0       1\n",
       "Name: Memory in GB, dtype: int64"
      ]
     },
     "execution_count": 15,
     "metadata": {},
     "output_type": "execute_result"
    },
    {
     "data": {
      "image/png": "[encoded data removed]",
      "text/plain": [
       "<Figure size 864x432 with 1 Axes>"
      ]
     },
     "metadata": {},
     "output_type": "display_data"
    }
   ],
   "source": [
    "# Memory in GB\n",
    "# plt.figure(figsize=(6,6))\n",
    "df[\"Memory in GB\"].value_counts().plot(kind='pie' ,autopct = '%0.2f%%')\n",
    "df[\"Memory in GB\"].value_counts()"
   ]
  },
  {
   "cell_type": "raw",
   "id": "cf723897",
   "metadata": {},
   "source": [
    "There maximun users of 128 GB of memory are 40% "
   ]
  },
  {
   "cell_type": "code",
   "execution_count": 16,
   "id": "e00bdd3f",
   "metadata": {},
   "outputs": [
    {
     "data": {
      "text/plain": [
       "<AxesSubplot:>"
      ]
     },
     "execution_count": 16,
     "metadata": {},
     "output_type": "execute_result"
    },
    {
     "data": {
      "image/png": "[encoded data removed]",
      "text/plain": [
       "<Figure size 864x432 with 1 Axes>"
      ]
     },
     "metadata": {
      "needs_background": "light"
     },
     "output_type": "display_data"
    }
   ],
   "source": [
    "# plt.figure(figsize=(10,6))\n",
    "x=df.Color.value_counts().head(6)\n",
    "x[1:].plot(kind=\"bar\")"
   ]
  },
  {
   "cell_type": "markdown",
   "id": "878c5e37",
   "metadata": {},
   "source": [
    "- <h4> Fav color is Black "
   ]
  },
  {
   "cell_type": "code",
   "execution_count": null,
   "id": "c9a68365",
   "metadata": {},
   "outputs": [],
   "source": []
  },
  {
   "cell_type": "raw",
   "id": "38d51bde",
   "metadata": {},
   "source": [
    "Q- which products got top 5 ratings"
   ]
  },
  {
   "cell_type": "code",
   "execution_count": 17,
   "id": "1cf4ac9c",
   "metadata": {},
   "outputs": [
    {
     "data": {
      "text/plain": [
       "<AxesSubplot:>"
      ]
     },
     "execution_count": 17,
     "metadata": {},
     "output_type": "execute_result"
    },
    {
     "data": {
      "image/png": "[encoded data removed]",
      "text/plain": [
       "<Figure size 864x432 with 1 Axes>"
      ]
     },
     "metadata": {
      "needs_background": "light"
     },
     "output_type": "display_data"
    }
   ],
   "source": [
    "# top 5 ratings\n",
    "# plt.figure(figsize=(10,6))\n",
    "x=df['Star_Rating'].value_counts()\n",
    "val=x.values\n",
    "idx=x.index\n",
    "\n",
    "sns.barplot(x=idx,y=val)"
   ]
  },
  {
   "cell_type": "markdown",
   "id": "79d2a37c",
   "metadata": {},
   "source": [
    "- <h4>  142 products got 4.2 star ratings"
   ]
  },
  {
   "cell_type": "code",
   "execution_count": 41,
   "id": "460d34a1",
   "metadata": {},
   "outputs": [
    {
     "data": {
      "text/plain": [
       "<AxesSubplot:xlabel='prices', ylabel='Density'>"
      ]
     },
     "execution_count": 41,
     "metadata": {},
     "output_type": "execute_result"
    },
    {
     "data": {
      "image/png": "[encoded data removed]",
      "text/plain": [
       "<Figure size 864x432 with 1 Axes>"
      ]
     },
     "metadata": {
      "needs_background": "light"
     },
     "output_type": "display_data"
    }
   ],
   "source": [
    "sns.distplot(df['Offer_price'],kde=True ,hist=False )\n",
    "sns.distplot(df['Market_Price'],kde=True , color = \"red\",hist=False ,axlabel=\"prices\")\n",
    "\n"
   ]
  },
  {
   "cell_type": "code",
   "execution_count": 42,
   "id": "e887b62e",
   "metadata": {},
   "outputs": [],
   "source": [
    "# maximun of mobiles are in range of 20000"
   ]
  },
  {
   "cell_type": "code",
   "execution_count": 43,
   "id": "921e717b",
   "metadata": {},
   "outputs": [
    {
     "data": {
      "text/plain": [
       "14847.915756630266"
      ]
     },
     "execution_count": 43,
     "metadata": {},
     "output_type": "execute_result"
    }
   ],
   "source": [
    "df[\"Offer_price\"].mean()"
   ]
  },
  {
   "cell_type": "code",
   "execution_count": 44,
   "id": "760d0f42",
   "metadata": {},
   "outputs": [
    {
     "data": {
      "text/plain": [
       "17717.352574102963"
      ]
     },
     "execution_count": 44,
     "metadata": {},
     "output_type": "execute_result"
    }
   ],
   "source": [
    "df[\"Market_Price\"].mean()"
   ]
  },
  {
   "cell_type": "code",
   "execution_count": 48,
   "id": "7b050d10",
   "metadata": {},
   "outputs": [
    {
     "data": {
      "text/plain": [
       "16.195629710879523"
      ]
     },
     "execution_count": 48,
     "metadata": {},
     "output_type": "execute_result"
    }
   ],
   "source": [
    "((df[\"Market_Price\"].mean())-(df[\"Offer_price\"].mean()))*100/(df[\"Market_Price\"].mean())"
   ]
  },
  {
   "cell_type": "markdown",
   "id": "c15a3c7b",
   "metadata": {},
   "source": [
    "- <h4> average discount offered on mobiles is 16.19%"
   ]
  },
  {
   "cell_type": "code",
   "execution_count": 50,
   "id": "d3d2c82b",
   "metadata": {},
   "outputs": [
    {
     "data": {
      "text/plain": [
       "13.465481461807284"
      ]
     },
     "execution_count": 50,
     "metadata": {},
     "output_type": "execute_result"
    }
   ],
   "source": [
    "df[\"Discount_calculated\"].mean()"
   ]
  },
  {
   "cell_type": "markdown",
   "id": "60df346a",
   "metadata": {},
   "source": [
    "##### their is a 2% deviation in disounts"
   ]
  },
  {
   "cell_type": "code",
   "execution_count": null,
   "id": "c604bd1a",
   "metadata": {},
   "outputs": [],
   "source": []
  },
  {
   "cell_type": "code",
   "execution_count": 54,
   "id": "8e5fd0a6",
   "metadata": {},
   "outputs": [
    {
     "data": {
      "text/plain": [
       "Product\n",
       "APPLE iPhone 11         8\n",
       "APPLE iPhone 12         2\n",
       "APPLE iPhone 12 Mini    3\n",
       "APPLE iPhone 13         9\n",
       "APPLE iPhone 13 Mini    1\n",
       "                       ..\n",
       "vivo Y21T               2\n",
       "vivo Y22                1\n",
       "vivo Y31                1\n",
       "vivo Y33s               1\n",
       "vivo Y75                1\n",
       "Name: Color, Length: 286, dtype: int64"
      ]
     },
     "execution_count": 54,
     "metadata": {},
     "output_type": "execute_result"
    }
   ],
   "source": [
    "df.groupby(\"Product\").count()[\"Color\"]"
   ]
  },
  {
   "cell_type": "markdown",
   "id": "c3e620d7",
   "metadata": {},
   "source": [
    "### there are 286 products"
   ]
  },
  {
   "cell_type": "code",
   "execution_count": 60,
   "id": "c1d13ff9",
   "metadata": {},
   "outputs": [
    {
     "data": {
      "text/html": [
       "<div>\n",
       "<style scoped>\n",
       "    .dataframe tbody tr th:only-of-type {\n",
       "        vertical-align: middle;\n",
       "    }\n",
       "\n",
       "    .dataframe tbody tr th {\n",
       "        vertical-align: top;\n",
       "    }\n",
       "\n",
       "    .dataframe thead th {\n",
       "        text-align: right;\n",
       "    }\n",
       "</style>\n",
       "<table border=\"1\" class=\"dataframe\">\n",
       "  <thead>\n",
       "    <tr style=\"text-align: right;\">\n",
       "      <th></th>\n",
       "      <th>Ratings</th>\n",
       "      <th>Reviews</th>\n",
       "      <th>Offer_price</th>\n",
       "      <th>Market_Price</th>\n",
       "      <th>Discount_calculated</th>\n",
       "    </tr>\n",
       "    <tr>\n",
       "      <th>Product</th>\n",
       "      <th></th>\n",
       "      <th></th>\n",
       "      <th></th>\n",
       "      <th></th>\n",
       "      <th></th>\n",
       "    </tr>\n",
       "  </thead>\n",
       "  <tbody>\n",
       "    <tr>\n",
       "      <th>APPLE iPhone 11</th>\n",
       "      <td>131081</td>\n",
       "      <td>8323</td>\n",
       "      <td>42990</td>\n",
       "      <td>48900</td>\n",
       "      <td>18.018223</td>\n",
       "    </tr>\n",
       "    <tr>\n",
       "      <th>APPLE iPhone 12</th>\n",
       "      <td>183329</td>\n",
       "      <td>12537</td>\n",
       "      <td>60990</td>\n",
       "      <td>64900</td>\n",
       "      <td>6.024653</td>\n",
       "    </tr>\n",
       "    <tr>\n",
       "      <th>APPLE iPhone 12 Mini</th>\n",
       "      <td>109474</td>\n",
       "      <td>8759</td>\n",
       "      <td>46990</td>\n",
       "      <td>64900</td>\n",
       "      <td>33.238731</td>\n",
       "    </tr>\n",
       "    <tr>\n",
       "      <th>APPLE iPhone 13</th>\n",
       "      <td>98089</td>\n",
       "      <td>4870</td>\n",
       "      <td>69990</td>\n",
       "      <td>79900</td>\n",
       "      <td>14.177396</td>\n",
       "    </tr>\n",
       "    <tr>\n",
       "      <th>APPLE iPhone 13 Mini</th>\n",
       "      <td>2473</td>\n",
       "      <td>217</td>\n",
       "      <td>68990</td>\n",
       "      <td>74900</td>\n",
       "      <td>7.890521</td>\n",
       "    </tr>\n",
       "    <tr>\n",
       "      <th>...</th>\n",
       "      <td>...</td>\n",
       "      <td>...</td>\n",
       "      <td>...</td>\n",
       "      <td>...</td>\n",
       "      <td>...</td>\n",
       "    </tr>\n",
       "    <tr>\n",
       "      <th>vivo Y21T</th>\n",
       "      <td>1245</td>\n",
       "      <td>90</td>\n",
       "      <td>15499</td>\n",
       "      <td>19990</td>\n",
       "      <td>22.466233</td>\n",
       "    </tr>\n",
       "    <tr>\n",
       "      <th>vivo Y22</th>\n",
       "      <td>21</td>\n",
       "      <td>0</td>\n",
       "      <td>14499</td>\n",
       "      <td>17990</td>\n",
       "      <td>19.405225</td>\n",
       "    </tr>\n",
       "    <tr>\n",
       "      <th>vivo Y31</th>\n",
       "      <td>8535</td>\n",
       "      <td>601</td>\n",
       "      <td>20490</td>\n",
       "      <td>20490</td>\n",
       "      <td>0.000000</td>\n",
       "    </tr>\n",
       "    <tr>\n",
       "      <th>vivo Y33s</th>\n",
       "      <td>11908</td>\n",
       "      <td>1088</td>\n",
       "      <td>17989</td>\n",
       "      <td>17990</td>\n",
       "      <td>0.005559</td>\n",
       "    </tr>\n",
       "    <tr>\n",
       "      <th>vivo Y75</th>\n",
       "      <td>915</td>\n",
       "      <td>84</td>\n",
       "      <td>25990</td>\n",
       "      <td>25990</td>\n",
       "      <td>0.000000</td>\n",
       "    </tr>\n",
       "  </tbody>\n",
       "</table>\n",
       "<p>286 rows × 5 columns</p>\n",
       "</div>"
      ],
      "text/plain": [
       "                      Ratings  Reviews  Offer_price  Market_Price  \\\n",
       "Product                                                             \n",
       "APPLE iPhone 11        131081     8323        42990         48900   \n",
       "APPLE iPhone 12        183329    12537        60990         64900   \n",
       "APPLE iPhone 12 Mini   109474     8759        46990         64900   \n",
       "APPLE iPhone 13         98089     4870        69990         79900   \n",
       "APPLE iPhone 13 Mini     2473      217        68990         74900   \n",
       "...                       ...      ...          ...           ...   \n",
       "vivo Y21T                1245       90        15499         19990   \n",
       "vivo Y22                   21        0        14499         17990   \n",
       "vivo Y31                 8535      601        20490         20490   \n",
       "vivo Y33s               11908     1088        17989         17990   \n",
       "vivo Y75                  915       84        25990         25990   \n",
       "\n",
       "                      Discount_calculated  \n",
       "Product                                    \n",
       "APPLE iPhone 11                 18.018223  \n",
       "APPLE iPhone 12                  6.024653  \n",
       "APPLE iPhone 12 Mini            33.238731  \n",
       "APPLE iPhone 13                 14.177396  \n",
       "APPLE iPhone 13 Mini             7.890521  \n",
       "...                                   ...  \n",
       "vivo Y21T                       22.466233  \n",
       "vivo Y22                        19.405225  \n",
       "vivo Y31                         0.000000  \n",
       "vivo Y33s                        0.005559  \n",
       "vivo Y75                         0.000000  \n",
       "\n",
       "[286 rows x 5 columns]"
      ]
     },
     "execution_count": 60,
     "metadata": {},
     "output_type": "execute_result"
    }
   ],
   "source": [
    "df.groupby(\"Product\").max(\"Star_Rating\")"
   ]
  },
  {
   "cell_type": "code",
   "execution_count": 65,
   "id": "e97027c4",
   "metadata": {},
   "outputs": [
    {
     "data": {
      "text/html": [
       "<div>\n",
       "<style scoped>\n",
       "    .dataframe tbody tr th:only-of-type {\n",
       "        vertical-align: middle;\n",
       "    }\n",
       "\n",
       "    .dataframe tbody tr th {\n",
       "        vertical-align: top;\n",
       "    }\n",
       "\n",
       "    .dataframe thead th {\n",
       "        text-align: right;\n",
       "    }\n",
       "</style>\n",
       "<table border=\"1\" class=\"dataframe\">\n",
       "  <thead>\n",
       "    <tr style=\"text-align: right;\">\n",
       "      <th></th>\n",
       "      <th>Product</th>\n",
       "      <th>Color</th>\n",
       "      <th>Memory in GB</th>\n",
       "      <th>Star_Rating</th>\n",
       "      <th>Ratings</th>\n",
       "      <th>Reviews</th>\n",
       "      <th>Offer_price</th>\n",
       "      <th>Market_Price</th>\n",
       "      <th>Discount_calculated</th>\n",
       "    </tr>\n",
       "  </thead>\n",
       "  <tbody>\n",
       "  </tbody>\n",
       "</table>\n",
       "</div>"
      ],
      "text/plain": [
       "Empty DataFrame\n",
       "Columns: [Product, Color, Memory in GB, Star_Rating, Ratings, Reviews, Offer_price, Market_Price, Discount_calculated]\n",
       "Index: []"
      ]
     },
     "execution_count": 65,
     "metadata": {},
     "output_type": "execute_result"
    }
   ],
   "source": [
    "\n",
    "df1 = pd.DataFrame(columns = df.columns)\n",
    "df1"
   ]
  },
  {
   "cell_type": "code",
   "execution_count": 66,
   "id": "518fb293",
   "metadata": {},
   "outputs": [],
   "source": [
    "for prod, data in df.groupby(\"Product\"):\n",
    "    highest_revenue_in_city = data.nlargest(1, \"Offer_price\")\n",
    "    df1 = df1.append(highest_revenue_in_city)"
   ]
  },
  {
   "cell_type": "code",
   "execution_count": 67,
   "id": "e8fd3939",
   "metadata": {},
   "outputs": [
    {
     "data": {
      "text/html": [
       "<div>\n",
       "<style scoped>\n",
       "    .dataframe tbody tr th:only-of-type {\n",
       "        vertical-align: middle;\n",
       "    }\n",
       "\n",
       "    .dataframe tbody tr th {\n",
       "        vertical-align: top;\n",
       "    }\n",
       "\n",
       "    .dataframe thead th {\n",
       "        text-align: right;\n",
       "    }\n",
       "</style>\n",
       "<table border=\"1\" class=\"dataframe\">\n",
       "  <thead>\n",
       "    <tr style=\"text-align: right;\">\n",
       "      <th></th>\n",
       "      <th>Product</th>\n",
       "      <th>Color</th>\n",
       "      <th>Memory in GB</th>\n",
       "      <th>Star_Rating</th>\n",
       "      <th>Ratings</th>\n",
       "      <th>Reviews</th>\n",
       "      <th>Offer_price</th>\n",
       "      <th>Market_Price</th>\n",
       "      <th>Discount_calculated</th>\n",
       "    </tr>\n",
       "  </thead>\n",
       "  <tbody>\n",
       "    <tr>\n",
       "      <th>293</th>\n",
       "      <td>APPLE iPhone 11</td>\n",
       "      <td>Green</td>\n",
       "      <td>128.0</td>\n",
       "      <td>4.6</td>\n",
       "      <td>130995</td>\n",
       "      <td>8302</td>\n",
       "      <td>42990</td>\n",
       "      <td>48900</td>\n",
       "      <td>12.085890</td>\n",
       "    </tr>\n",
       "    <tr>\n",
       "      <th>629</th>\n",
       "      <td>APPLE iPhone 12</td>\n",
       "      <td>Black</td>\n",
       "      <td>128.0</td>\n",
       "      <td>4.6</td>\n",
       "      <td>183329</td>\n",
       "      <td>12537</td>\n",
       "      <td>60990</td>\n",
       "      <td>64900</td>\n",
       "      <td>6.024653</td>\n",
       "    </tr>\n",
       "    <tr>\n",
       "      <th>447</th>\n",
       "      <td>APPLE iPhone 12 Mini</td>\n",
       "      <td>White</td>\n",
       "      <td>128.0</td>\n",
       "      <td>4.5</td>\n",
       "      <td>109424</td>\n",
       "      <td>8752</td>\n",
       "      <td>46990</td>\n",
       "      <td>64900</td>\n",
       "      <td>27.596302</td>\n",
       "    </tr>\n",
       "    <tr>\n",
       "      <th>519</th>\n",
       "      <td>APPLE iPhone 13</td>\n",
       "      <td>Pink</td>\n",
       "      <td>256.0</td>\n",
       "      <td>4.7</td>\n",
       "      <td>79146</td>\n",
       "      <td>3488</td>\n",
       "      <td>69990</td>\n",
       "      <td>79900</td>\n",
       "      <td>12.403004</td>\n",
       "    </tr>\n",
       "    <tr>\n",
       "      <th>621</th>\n",
       "      <td>APPLE iPhone 13 Mini</td>\n",
       "      <td>Starlight</td>\n",
       "      <td>256.0</td>\n",
       "      <td>4.5</td>\n",
       "      <td>2473</td>\n",
       "      <td>217</td>\n",
       "      <td>68990</td>\n",
       "      <td>74900</td>\n",
       "      <td>7.890521</td>\n",
       "    </tr>\n",
       "    <tr>\n",
       "      <th>...</th>\n",
       "      <td>...</td>\n",
       "      <td>...</td>\n",
       "      <td>...</td>\n",
       "      <td>...</td>\n",
       "      <td>...</td>\n",
       "      <td>...</td>\n",
       "      <td>...</td>\n",
       "      <td>...</td>\n",
       "      <td>...</td>\n",
       "    </tr>\n",
       "    <tr>\n",
       "      <th>516</th>\n",
       "      <td>vivo Y21T</td>\n",
       "      <td>Pearl White</td>\n",
       "      <td>128.0</td>\n",
       "      <td>4.4</td>\n",
       "      <td>1245</td>\n",
       "      <td>90</td>\n",
       "      <td>15499</td>\n",
       "      <td>19990</td>\n",
       "      <td>22.466233</td>\n",
       "    </tr>\n",
       "    <tr>\n",
       "      <th>551</th>\n",
       "      <td>vivo Y22</td>\n",
       "      <td>Starlit Blue</td>\n",
       "      <td>64.0</td>\n",
       "      <td>4.0</td>\n",
       "      <td>21</td>\n",
       "      <td>0</td>\n",
       "      <td>14499</td>\n",
       "      <td>17990</td>\n",
       "      <td>19.405225</td>\n",
       "    </tr>\n",
       "    <tr>\n",
       "      <th>194</th>\n",
       "      <td>vivo Y31</td>\n",
       "      <td>Racing Black</td>\n",
       "      <td>128.0</td>\n",
       "      <td>4.4</td>\n",
       "      <td>8535</td>\n",
       "      <td>601</td>\n",
       "      <td>20490</td>\n",
       "      <td>20490</td>\n",
       "      <td>0.000000</td>\n",
       "    </tr>\n",
       "    <tr>\n",
       "      <th>630</th>\n",
       "      <td>vivo Y33s</td>\n",
       "      <td>Mirror Black</td>\n",
       "      <td>128.0</td>\n",
       "      <td>4.3</td>\n",
       "      <td>11908</td>\n",
       "      <td>1088</td>\n",
       "      <td>17989</td>\n",
       "      <td>17990</td>\n",
       "      <td>0.005559</td>\n",
       "    </tr>\n",
       "    <tr>\n",
       "      <th>161</th>\n",
       "      <td>vivo Y75</td>\n",
       "      <td>Dancing waves</td>\n",
       "      <td>128.0</td>\n",
       "      <td>4.2</td>\n",
       "      <td>915</td>\n",
       "      <td>84</td>\n",
       "      <td>25990</td>\n",
       "      <td>25990</td>\n",
       "      <td>0.000000</td>\n",
       "    </tr>\n",
       "  </tbody>\n",
       "</table>\n",
       "<p>286 rows × 9 columns</p>\n",
       "</div>"
      ],
      "text/plain": [
       "                  Product          Color Memory in GB Star_Rating Ratings  \\\n",
       "293       APPLE iPhone 11          Green        128.0         4.6  130995   \n",
       "629       APPLE iPhone 12          Black        128.0         4.6  183329   \n",
       "447  APPLE iPhone 12 Mini          White        128.0         4.5  109424   \n",
       "519       APPLE iPhone 13           Pink        256.0         4.7   79146   \n",
       "621  APPLE iPhone 13 Mini      Starlight        256.0         4.5    2473   \n",
       "..                    ...            ...          ...         ...     ...   \n",
       "516             vivo Y21T    Pearl White        128.0         4.4    1245   \n",
       "551              vivo Y22   Starlit Blue         64.0         4.0      21   \n",
       "194              vivo Y31   Racing Black        128.0         4.4    8535   \n",
       "630             vivo Y33s   Mirror Black        128.0         4.3   11908   \n",
       "161              vivo Y75  Dancing waves        128.0         4.2     915   \n",
       "\n",
       "    Reviews Offer_price Market_Price  Discount_calculated  \n",
       "293    8302       42990        48900            12.085890  \n",
       "629   12537       60990        64900             6.024653  \n",
       "447    8752       46990        64900            27.596302  \n",
       "519    3488       69990        79900            12.403004  \n",
       "621     217       68990        74900             7.890521  \n",
       "..      ...         ...          ...                  ...  \n",
       "516      90       15499        19990            22.466233  \n",
       "551       0       14499        17990            19.405225  \n",
       "194     601       20490        20490             0.000000  \n",
       "630    1088       17989        17990             0.005559  \n",
       "161      84       25990        25990             0.000000  \n",
       "\n",
       "[286 rows x 9 columns]"
      ]
     },
     "execution_count": 67,
     "metadata": {},
     "output_type": "execute_result"
    }
   ],
   "source": [
    "df1"
   ]
  },
  {
   "cell_type": "code",
   "execution_count": null,
   "id": "674350e2",
   "metadata": {},
   "outputs": [],
   "source": [
    "# mean ratings and reviews for products"
   ]
  },
  {
   "cell_type": "code",
   "execution_count": 77,
   "id": "4ee62239",
   "metadata": {},
   "outputs": [
    {
     "data": {
      "text/html": [
       "<div>\n",
       "<style scoped>\n",
       "    .dataframe tbody tr th:only-of-type {\n",
       "        vertical-align: middle;\n",
       "    }\n",
       "\n",
       "    .dataframe tbody tr th {\n",
       "        vertical-align: top;\n",
       "    }\n",
       "\n",
       "    .dataframe thead th {\n",
       "        text-align: right;\n",
       "    }\n",
       "</style>\n",
       "<table border=\"1\" class=\"dataframe\">\n",
       "  <thead>\n",
       "    <tr style=\"text-align: right;\">\n",
       "      <th></th>\n",
       "      <th>Ratings</th>\n",
       "      <th>Reviews</th>\n",
       "    </tr>\n",
       "    <tr>\n",
       "      <th>Product</th>\n",
       "      <th></th>\n",
       "      <th></th>\n",
       "    </tr>\n",
       "  </thead>\n",
       "  <tbody>\n",
       "    <tr>\n",
       "      <th>APPLE iPhone 11</th>\n",
       "      <td>131044.875000</td>\n",
       "      <td>8311.750000</td>\n",
       "    </tr>\n",
       "    <tr>\n",
       "      <th>APPLE iPhone 12</th>\n",
       "      <td>183329.000000</td>\n",
       "      <td>12537.000000</td>\n",
       "    </tr>\n",
       "    <tr>\n",
       "      <th>APPLE iPhone 12 Mini</th>\n",
       "      <td>109445.333333</td>\n",
       "      <td>8754.666667</td>\n",
       "    </tr>\n",
       "    <tr>\n",
       "      <th>APPLE iPhone 13</th>\n",
       "      <td>83355.555556</td>\n",
       "      <td>3795.111111</td>\n",
       "    </tr>\n",
       "    <tr>\n",
       "      <th>APPLE iPhone 13 Mini</th>\n",
       "      <td>2473.000000</td>\n",
       "      <td>217.000000</td>\n",
       "    </tr>\n",
       "    <tr>\n",
       "      <th>...</th>\n",
       "      <td>...</td>\n",
       "      <td>...</td>\n",
       "    </tr>\n",
       "    <tr>\n",
       "      <th>vivo Y21T</th>\n",
       "      <td>1245.000000</td>\n",
       "      <td>90.000000</td>\n",
       "    </tr>\n",
       "    <tr>\n",
       "      <th>vivo Y22</th>\n",
       "      <td>21.000000</td>\n",
       "      <td>0.000000</td>\n",
       "    </tr>\n",
       "    <tr>\n",
       "      <th>vivo Y31</th>\n",
       "      <td>8535.000000</td>\n",
       "      <td>601.000000</td>\n",
       "    </tr>\n",
       "    <tr>\n",
       "      <th>vivo Y33s</th>\n",
       "      <td>11908.000000</td>\n",
       "      <td>1088.000000</td>\n",
       "    </tr>\n",
       "    <tr>\n",
       "      <th>vivo Y75</th>\n",
       "      <td>915.000000</td>\n",
       "      <td>84.000000</td>\n",
       "    </tr>\n",
       "  </tbody>\n",
       "</table>\n",
       "<p>286 rows × 2 columns</p>\n",
       "</div>"
      ],
      "text/plain": [
       "                            Ratings       Reviews\n",
       "Product                                          \n",
       "APPLE iPhone 11       131044.875000   8311.750000\n",
       "APPLE iPhone 12       183329.000000  12537.000000\n",
       "APPLE iPhone 12 Mini  109445.333333   8754.666667\n",
       "APPLE iPhone 13        83355.555556   3795.111111\n",
       "APPLE iPhone 13 Mini    2473.000000    217.000000\n",
       "...                             ...           ...\n",
       "vivo Y21T               1245.000000     90.000000\n",
       "vivo Y22                  21.000000      0.000000\n",
       "vivo Y31                8535.000000    601.000000\n",
       "vivo Y33s              11908.000000   1088.000000\n",
       "vivo Y75                 915.000000     84.000000\n",
       "\n",
       "[286 rows x 2 columns]"
      ]
     },
     "execution_count": 77,
     "metadata": {},
     "output_type": "execute_result"
    }
   ],
   "source": [
    "df.groupby(\"Product\").agg({ \"Ratings\" : \"mean\" , 'Reviews': 'mean' })"
   ]
  },
  {
   "cell_type": "code",
   "execution_count": 86,
   "id": "3bebb514",
   "metadata": {},
   "outputs": [
    {
     "data": {
      "text/html": [
       "<div>\n",
       "<style scoped>\n",
       "    .dataframe tbody tr th:only-of-type {\n",
       "        vertical-align: middle;\n",
       "    }\n",
       "\n",
       "    .dataframe tbody tr th {\n",
       "        vertical-align: top;\n",
       "    }\n",
       "\n",
       "    .dataframe thead th {\n",
       "        text-align: right;\n",
       "    }\n",
       "</style>\n",
       "<table border=\"1\" class=\"dataframe\">\n",
       "  <thead>\n",
       "    <tr style=\"text-align: right;\">\n",
       "      <th></th>\n",
       "      <th>Product</th>\n",
       "      <th>Ratings</th>\n",
       "      <th>Reviews</th>\n",
       "    </tr>\n",
       "  </thead>\n",
       "  <tbody>\n",
       "    <tr>\n",
       "      <th>0</th>\n",
       "      <td>APPLE iPhone 11</td>\n",
       "      <td>131044.875000</td>\n",
       "      <td>8311.750000</td>\n",
       "    </tr>\n",
       "    <tr>\n",
       "      <th>1</th>\n",
       "      <td>APPLE iPhone 12</td>\n",
       "      <td>183329.000000</td>\n",
       "      <td>12537.000000</td>\n",
       "    </tr>\n",
       "    <tr>\n",
       "      <th>2</th>\n",
       "      <td>APPLE iPhone 12 Mini</td>\n",
       "      <td>109445.333333</td>\n",
       "      <td>8754.666667</td>\n",
       "    </tr>\n",
       "    <tr>\n",
       "      <th>3</th>\n",
       "      <td>APPLE iPhone 13</td>\n",
       "      <td>83355.555556</td>\n",
       "      <td>3795.111111</td>\n",
       "    </tr>\n",
       "    <tr>\n",
       "      <th>4</th>\n",
       "      <td>APPLE iPhone 13 Mini</td>\n",
       "      <td>2473.000000</td>\n",
       "      <td>217.000000</td>\n",
       "    </tr>\n",
       "    <tr>\n",
       "      <th>5</th>\n",
       "      <td>APPLE iPhone 13 Pro</td>\n",
       "      <td>977.000000</td>\n",
       "      <td>87.000000</td>\n",
       "    </tr>\n",
       "    <tr>\n",
       "      <th>6</th>\n",
       "      <td>APPLE iPhone 13 Pro Max</td>\n",
       "      <td>1486.000000</td>\n",
       "      <td>152.000000</td>\n",
       "    </tr>\n",
       "    <tr>\n",
       "      <th>7</th>\n",
       "      <td>APPLE iPhone 14</td>\n",
       "      <td>181.000000</td>\n",
       "      <td>7.333333</td>\n",
       "    </tr>\n",
       "  </tbody>\n",
       "</table>\n",
       "</div>"
      ],
      "text/plain": [
       "                   Product        Ratings       Reviews\n",
       "0          APPLE iPhone 11  131044.875000   8311.750000\n",
       "1          APPLE iPhone 12  183329.000000  12537.000000\n",
       "2     APPLE iPhone 12 Mini  109445.333333   8754.666667\n",
       "3          APPLE iPhone 13   83355.555556   3795.111111\n",
       "4     APPLE iPhone 13 Mini    2473.000000    217.000000\n",
       "5      APPLE iPhone 13 Pro     977.000000     87.000000\n",
       "6  APPLE iPhone 13 Pro Max    1486.000000    152.000000\n",
       "7          APPLE iPhone 14     181.000000      7.333333"
      ]
     },
     "execution_count": 86,
     "metadata": {},
     "output_type": "execute_result"
    }
   ],
   "source": [
    "# filltering all apple products\n",
    "x=df.groupby(\"Product\").agg({ \"Ratings\" : \"mean\" , 'Reviews': 'mean' }).reset_index()\n",
    "x[x.Product.str.contains(\"APPLE\")]"
   ]
  },
  {
   "cell_type": "code",
   "execution_count": 87,
   "id": "61d5d48b",
   "metadata": {},
   "outputs": [
    {
     "data": {
      "text/html": [
       "<div>\n",
       "<style scoped>\n",
       "    .dataframe tbody tr th:only-of-type {\n",
       "        vertical-align: middle;\n",
       "    }\n",
       "\n",
       "    .dataframe tbody tr th {\n",
       "        vertical-align: top;\n",
       "    }\n",
       "\n",
       "    .dataframe thead th {\n",
       "        text-align: right;\n",
       "    }\n",
       "</style>\n",
       "<table border=\"1\" class=\"dataframe\">\n",
       "  <thead>\n",
       "    <tr style=\"text-align: right;\">\n",
       "      <th></th>\n",
       "      <th>Product</th>\n",
       "      <th>Offer_price</th>\n",
       "      <th>Market_Price</th>\n",
       "    </tr>\n",
       "  </thead>\n",
       "  <tbody>\n",
       "    <tr>\n",
       "      <th>0</th>\n",
       "      <td>APPLE iPhone 11</td>\n",
       "      <td>38990.000000</td>\n",
       "      <td>46400.000000</td>\n",
       "    </tr>\n",
       "    <tr>\n",
       "      <th>1</th>\n",
       "      <td>APPLE iPhone 12</td>\n",
       "      <td>60990.000000</td>\n",
       "      <td>64900.000000</td>\n",
       "    </tr>\n",
       "    <tr>\n",
       "      <th>2</th>\n",
       "      <td>APPLE iPhone 12 Mini</td>\n",
       "      <td>42323.333333</td>\n",
       "      <td>61566.666667</td>\n",
       "    </tr>\n",
       "    <tr>\n",
       "      <th>3</th>\n",
       "      <td>APPLE iPhone 13</td>\n",
       "      <td>63212.222222</td>\n",
       "      <td>73233.333333</td>\n",
       "    </tr>\n",
       "    <tr>\n",
       "      <th>4</th>\n",
       "      <td>APPLE iPhone 13 Mini</td>\n",
       "      <td>68990.000000</td>\n",
       "      <td>74900.000000</td>\n",
       "    </tr>\n",
       "    <tr>\n",
       "      <th>5</th>\n",
       "      <td>APPLE iPhone 13 Pro</td>\n",
       "      <td>124900.000000</td>\n",
       "      <td>124900.000000</td>\n",
       "    </tr>\n",
       "    <tr>\n",
       "      <th>6</th>\n",
       "      <td>APPLE iPhone 13 Pro Max</td>\n",
       "      <td>139900.000000</td>\n",
       "      <td>139900.000000</td>\n",
       "    </tr>\n",
       "    <tr>\n",
       "      <th>7</th>\n",
       "      <td>APPLE iPhone 14</td>\n",
       "      <td>83233.333333</td>\n",
       "      <td>83233.333333</td>\n",
       "    </tr>\n",
       "  </tbody>\n",
       "</table>\n",
       "</div>"
      ],
      "text/plain": [
       "                   Product    Offer_price   Market_Price\n",
       "0          APPLE iPhone 11   38990.000000   46400.000000\n",
       "1          APPLE iPhone 12   60990.000000   64900.000000\n",
       "2     APPLE iPhone 12 Mini   42323.333333   61566.666667\n",
       "3          APPLE iPhone 13   63212.222222   73233.333333\n",
       "4     APPLE iPhone 13 Mini   68990.000000   74900.000000\n",
       "5      APPLE iPhone 13 Pro  124900.000000  124900.000000\n",
       "6  APPLE iPhone 13 Pro Max  139900.000000  139900.000000\n",
       "7          APPLE iPhone 14   83233.333333   83233.333333"
      ]
     },
     "execution_count": 87,
     "metadata": {},
     "output_type": "execute_result"
    }
   ],
   "source": [
    "# filltering all apple products\n",
    "x=df.groupby(\"Product\").agg({ \"Offer_price\" : \"mean\" , 'Market_Price': 'mean' }).reset_index()\n",
    "x[x.Product.str.contains(\"APPLE\")]"
   ]
  },
  {
   "cell_type": "code",
   "execution_count": 92,
   "id": "512ee6e9",
   "metadata": {},
   "outputs": [
    {
     "data": {
      "text/html": [
       "<div>\n",
       "<style scoped>\n",
       "    .dataframe tbody tr th:only-of-type {\n",
       "        vertical-align: middle;\n",
       "    }\n",
       "\n",
       "    .dataframe tbody tr th {\n",
       "        vertical-align: top;\n",
       "    }\n",
       "\n",
       "    .dataframe thead th {\n",
       "        text-align: right;\n",
       "    }\n",
       "</style>\n",
       "<table border=\"1\" class=\"dataframe\">\n",
       "  <thead>\n",
       "    <tr style=\"text-align: right;\">\n",
       "      <th></th>\n",
       "      <th>Product</th>\n",
       "      <th>Offer_price</th>\n",
       "      <th>Market_Price</th>\n",
       "    </tr>\n",
       "  </thead>\n",
       "  <tbody>\n",
       "    <tr>\n",
       "      <th>0</th>\n",
       "      <td>APPLE iPhone 11</td>\n",
       "      <td>38990.000000</td>\n",
       "      <td>46400.000000</td>\n",
       "    </tr>\n",
       "    <tr>\n",
       "      <th>1</th>\n",
       "      <td>APPLE iPhone 12</td>\n",
       "      <td>60990.000000</td>\n",
       "      <td>64900.000000</td>\n",
       "    </tr>\n",
       "    <tr>\n",
       "      <th>2</th>\n",
       "      <td>APPLE iPhone 12 Mini</td>\n",
       "      <td>42323.333333</td>\n",
       "      <td>61566.666667</td>\n",
       "    </tr>\n",
       "    <tr>\n",
       "      <th>3</th>\n",
       "      <td>APPLE iPhone 13</td>\n",
       "      <td>63212.222222</td>\n",
       "      <td>73233.333333</td>\n",
       "    </tr>\n",
       "    <tr>\n",
       "      <th>4</th>\n",
       "      <td>APPLE iPhone 13 Mini</td>\n",
       "      <td>68990.000000</td>\n",
       "      <td>74900.000000</td>\n",
       "    </tr>\n",
       "    <tr>\n",
       "      <th>5</th>\n",
       "      <td>APPLE iPhone 13 Pro</td>\n",
       "      <td>124900.000000</td>\n",
       "      <td>124900.000000</td>\n",
       "    </tr>\n",
       "    <tr>\n",
       "      <th>6</th>\n",
       "      <td>APPLE iPhone 13 Pro Max</td>\n",
       "      <td>139900.000000</td>\n",
       "      <td>139900.000000</td>\n",
       "    </tr>\n",
       "    <tr>\n",
       "      <th>7</th>\n",
       "      <td>APPLE iPhone 14</td>\n",
       "      <td>83233.333333</td>\n",
       "      <td>83233.333333</td>\n",
       "    </tr>\n",
       "  </tbody>\n",
       "</table>\n",
       "</div>"
      ],
      "text/plain": [
       "                   Product    Offer_price   Market_Price\n",
       "0          APPLE iPhone 11   38990.000000   46400.000000\n",
       "1          APPLE iPhone 12   60990.000000   64900.000000\n",
       "2     APPLE iPhone 12 Mini   42323.333333   61566.666667\n",
       "3          APPLE iPhone 13   63212.222222   73233.333333\n",
       "4     APPLE iPhone 13 Mini   68990.000000   74900.000000\n",
       "5      APPLE iPhone 13 Pro  124900.000000  124900.000000\n",
       "6  APPLE iPhone 13 Pro Max  139900.000000  139900.000000\n",
       "7          APPLE iPhone 14   83233.333333   83233.333333"
      ]
     },
     "execution_count": 92,
     "metadata": {},
     "output_type": "execute_result"
    }
   ],
   "source": [
    "top7apple = x[x.Product.str.contains(\"APPLE\")]\n",
    "top7apple"
   ]
  },
  {
   "cell_type": "code",
   "execution_count": 101,
   "id": "033f47d0",
   "metadata": {},
   "outputs": [
    {
     "data": {
      "text/plain": [
       "<AxesSubplot:xlabel='Product', ylabel='Offer_price'>"
      ]
     },
     "execution_count": 101,
     "metadata": {},
     "output_type": "execute_result"
    },
    {
     "data": {
      "image/png": "[encoded data removed]",
      "text/plain": [
       "<Figure size 864x432 with 1 Axes>"
      ]
     },
     "metadata": {
      "needs_background": "light"
     },
     "output_type": "display_data"
    }
   ],
   "source": [
    "sns.barplot(data=top7apple ,x=\"Product\",y=\"Offer_price\" )"
   ]
  },
  {
   "cell_type": "markdown",
   "id": "169bd5bf",
   "metadata": {},
   "source": [
    "- <h4> APPLE iPhone 13 Pro Max is most costliest iphone"
   ]
  },
  {
   "cell_type": "code",
   "execution_count": 105,
   "id": "fb8526a0",
   "metadata": {},
   "outputs": [
    {
     "data": {
      "text/html": [
       "<div>\n",
       "<style scoped>\n",
       "    .dataframe tbody tr th:only-of-type {\n",
       "        vertical-align: middle;\n",
       "    }\n",
       "\n",
       "    .dataframe tbody tr th {\n",
       "        vertical-align: top;\n",
       "    }\n",
       "\n",
       "    .dataframe thead th {\n",
       "        text-align: right;\n",
       "    }\n",
       "</style>\n",
       "<table border=\"1\" class=\"dataframe\">\n",
       "  <thead>\n",
       "    <tr style=\"text-align: right;\">\n",
       "      <th></th>\n",
       "      <th>Product</th>\n",
       "      <th>Color</th>\n",
       "      <th>Memory in GB</th>\n",
       "      <th>Star_Rating</th>\n",
       "      <th>Ratings</th>\n",
       "      <th>Reviews</th>\n",
       "      <th>Offer_price</th>\n",
       "      <th>Market_Price</th>\n",
       "      <th>Discount_calculated</th>\n",
       "    </tr>\n",
       "  </thead>\n",
       "  <tbody>\n",
       "    <tr>\n",
       "      <th>198</th>\n",
       "      <td>APPLE iPhone 13 Pro Max</td>\n",
       "      <td>Alpine Green</td>\n",
       "      <td>256.0</td>\n",
       "      <td>4.6</td>\n",
       "      <td>1486</td>\n",
       "      <td>152</td>\n",
       "      <td>139900</td>\n",
       "      <td>139900</td>\n",
       "      <td>0.0</td>\n",
       "    </tr>\n",
       "  </tbody>\n",
       "</table>\n",
       "</div>"
      ],
      "text/plain": [
       "                     Product         Color Memory in GB Star_Rating  Ratings  \\\n",
       "198  APPLE iPhone 13 Pro Max  Alpine Green        256.0         4.6     1486   \n",
       "\n",
       "     Reviews  Offer_price  Market_Price  Discount_calculated  \n",
       "198      152       139900        139900                  0.0  "
      ]
     },
     "execution_count": 105,
     "metadata": {},
     "output_type": "execute_result"
    }
   ],
   "source": [
    "df[df['Product']==\"APPLE iPhone 13 Pro Max\"]"
   ]
  },
  {
   "cell_type": "markdown",
   "id": "b08daaa9",
   "metadata": {},
   "source": [
    "- <h2> APPLE iPhone 13 Pro Max has got Star_Rating of 4.6  with 256 GB Memory"
   ]
  },
  {
   "cell_type": "code",
   "execution_count": null,
   "id": "c190abe1",
   "metadata": {},
   "outputs": [],
   "source": []
  },
  {
   "cell_type": "code",
   "execution_count": null,
   "id": "5bffd8cb",
   "metadata": {},
   "outputs": [],
   "source": []
  }
 ],
 "metadata": {
  "kernelspec": {
   "display_name": "Python 3",
   "language": "python",
   "name": "python3"
  },
  "language_info": {
   "codemirror_mode": {
    "name": "ipython",
    "version": 3
   },
   "file_extension": ".py",
   "mimetype": "text/x-python",
   "name": "python",
   "nbconvert_exporter": "python",
   "pygments_lexer": "ipython3",
   "version": "3.8.8"
  }
 },
 "nbformat": 4,
 "nbformat_minor": 5
}
